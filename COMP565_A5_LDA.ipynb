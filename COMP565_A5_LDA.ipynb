{
 "cells": [
  {
   "cell_type": "code",
   "execution_count": 1,
   "id": "cad98e57",
   "metadata": {},
   "outputs": [],
   "source": [
    "# STUDENT NAME: Zilong Wang\n",
    "# STUDENT ID: 260823366\n",
    "import numpy as np\n",
    "import pandas as pd\n",
    "import seaborn as sns\n",
    "import tqdm\n",
    "\n",
    "alpha = 1\n",
    "beta = 0.0001\n",
    "icd_desc = pd.read_csv('D_ICD_DIAGNOSES.csv.gz')\n",
    "MIMIC3 = pd.read_csv('MIMIC3_DIAGNOSES_ICD_subset.csv.gz')\n",
    "\n",
    "subjects = np.unique(MIMIC3['SUBJECT_ID'].values)\n",
    "ICD9 = np.unique(MIMIC3['ICD9_CODE'].values)\n",
    "\n",
    "# Count how many times each ICD code w appears in each patient d. 689 rows (patients) x 387 columns (ICD codes)\n",
    "n_wd = pd.crosstab(MIMIC3[\"SUBJECT_ID\"], MIMIC3[\"ICD9_CODE\"])\n",
    "\n",
    "# represent the ICD tokens in each patient as a long vector dictionary\n",
    "long_vec = {}\n",
    "for patient_d in subjects:\n",
    "    \n",
    "    # only use the ICD tokens that have a more than 0 counts\n",
    "    all_tokens_patient_d = n_wd.loc[patient_d]\n",
    "    existing_tokens_patient_d = all_tokens_patient_d[all_tokens_patient_d != 0]\n",
    "    \n",
    "    # expand the existing tokens into a long vector:\n",
    "    long_vec_d = []\n",
    "    for ICD in existing_tokens_patient_d.index:\n",
    "        howmany = existing_tokens_patient_d[ICD]\n",
    "        long_vec_d += [ICD] * howmany\n",
    "    \n",
    "    long_vec[patient_d] = long_vec_d"
   ]
  },
  {
   "cell_type": "code",
   "execution_count": 2,
   "id": "4741b99c",
   "metadata": {},
   "outputs": [
    {
     "data": {
      "text/html": [
       "<div>\n",
       "<style scoped>\n",
       "    .dataframe tbody tr th:only-of-type {\n",
       "        vertical-align: middle;\n",
       "    }\n",
       "\n",
       "    .dataframe tbody tr th {\n",
       "        vertical-align: top;\n",
       "    }\n",
       "\n",
       "    .dataframe thead th {\n",
       "        text-align: right;\n",
       "    }\n",
       "</style>\n",
       "<table border=\"1\" class=\"dataframe\">\n",
       "  <thead>\n",
       "    <tr style=\"text-align: right;\">\n",
       "      <th></th>\n",
       "      <th>SUBJECT_ID</th>\n",
       "      <th>ICD9_CODE</th>\n",
       "    </tr>\n",
       "  </thead>\n",
       "  <tbody>\n",
       "    <tr>\n",
       "      <th>0</th>\n",
       "      <td>17843</td>\n",
       "      <td>2851</td>\n",
       "    </tr>\n",
       "    <tr>\n",
       "      <th>1</th>\n",
       "      <td>10152</td>\n",
       "      <td>389</td>\n",
       "    </tr>\n",
       "    <tr>\n",
       "      <th>2</th>\n",
       "      <td>15311</td>\n",
       "      <td>4280</td>\n",
       "    </tr>\n",
       "    <tr>\n",
       "      <th>3</th>\n",
       "      <td>45434</td>\n",
       "      <td>5070</td>\n",
       "    </tr>\n",
       "    <tr>\n",
       "      <th>4</th>\n",
       "      <td>32229</td>\n",
       "      <td>51881</td>\n",
       "    </tr>\n",
       "    <tr>\n",
       "      <th>...</th>\n",
       "      <td>...</td>\n",
       "      <td>...</td>\n",
       "    </tr>\n",
       "    <tr>\n",
       "      <th>995</th>\n",
       "      <td>26042</td>\n",
       "      <td>5849</td>\n",
       "    </tr>\n",
       "    <tr>\n",
       "      <th>996</th>\n",
       "      <td>83875</td>\n",
       "      <td>486</td>\n",
       "    </tr>\n",
       "    <tr>\n",
       "      <th>997</th>\n",
       "      <td>50391</td>\n",
       "      <td>29410</td>\n",
       "    </tr>\n",
       "    <tr>\n",
       "      <th>998</th>\n",
       "      <td>25030</td>\n",
       "      <td>78039</td>\n",
       "    </tr>\n",
       "    <tr>\n",
       "      <th>999</th>\n",
       "      <td>79396</td>\n",
       "      <td>3485</td>\n",
       "    </tr>\n",
       "  </tbody>\n",
       "</table>\n",
       "<p>1000 rows × 2 columns</p>\n",
       "</div>"
      ],
      "text/plain": [
       "     SUBJECT_ID  ICD9_CODE\n",
       "0         17843       2851\n",
       "1         10152        389\n",
       "2         15311       4280\n",
       "3         45434       5070\n",
       "4         32229      51881\n",
       "..          ...        ...\n",
       "995       26042       5849\n",
       "996       83875        486\n",
       "997       50391      29410\n",
       "998       25030      78039\n",
       "999       79396       3485\n",
       "\n",
       "[1000 rows x 2 columns]"
      ]
     },
     "execution_count": 2,
     "metadata": {},
     "output_type": "execute_result"
    }
   ],
   "source": [
    "MIMIC3"
   ]
  },
  {
   "cell_type": "code",
   "execution_count": 2,
   "id": "7722ab94",
   "metadata": {},
   "outputs": [],
   "source": [
    "# Q1 collapsed Gibbs sampling LDA\n",
    "ntopics = 5\n",
    "\n",
    "# first randomly initialize z_id\n",
    "z_id = {}\n",
    "for patient_d in subjects:\n",
    "    z_id[patient_d] = np.random.randint(low=0, high=ntopics, size=len(long_vec[patient_d]))\n",
    "\n",
    "    \n",
    "def update_n_dotdk (z_id):\n",
    "    n_dotdk = np.zeros((len(subjects), ntopics))\n",
    "    for d, patient_d in enumerate(subjects):\n",
    "        for icd_i, target_ICD in enumerate(long_vec[patient_d]):\n",
    "            # here topic_k ranges from 0 to ntopics - 1\n",
    "            topic_k = z_id[patient_d][icd_i]\n",
    "            n_dotdk[d][topic_k] += 1\n",
    "            \n",
    "    return n_dotdk\n",
    "\n",
    "def update_n_wdotk (z_id):\n",
    "    n_wdotk = np.zeros((len(ICD9), ntopics))\n",
    "    \n",
    "    for d, patient_d in enumerate(subjects):\n",
    "        for icd_i, target_ICD in enumerate(long_vec[patient_d]): \n",
    "            target_ICD_ind = np.where(ICD9 == target_ICD)[0][0]\n",
    "            \n",
    "            # here topic_k ranges from 1 to ntopics\n",
    "            topic_k = z_id[patient_d][icd_i]\n",
    "            \n",
    "            # topic_k - 1 so that column index range from 0 to ntopics - 1\n",
    "            n_wdotk[target_ICD_ind][topic_k] += 1 \n",
    "    return n_wdotk\n",
    "\n",
    "# initialize n_dotdk and n_wdotk according to random initial z_id\n",
    "n_dotdk = update_n_dotdk (z_id)\n",
    "n_wdotk = update_n_wdotk (z_id)"
   ]
  },
  {
   "cell_type": "code",
   "execution_count": 3,
   "id": "d8bebc86",
   "metadata": {},
   "outputs": [],
   "source": [
    "import copy\n",
    "\n",
    "def resample_z_id (z_id):\n",
    "    for d, patient_d in tqdm.tqdm(enumerate(subjects)):\n",
    "        # a list of length i with each element bing the sampled topic assignment to ICD_i\n",
    "        z_id_sample = []\n",
    "\n",
    "        # each ICD i in patient d will have k possible topic assignments\n",
    "        for icd_i, target_ICD in enumerate(long_vec[patient_d]):\n",
    "\n",
    "            # a list of k values\n",
    "            gamma_idk_list = []\n",
    "            \n",
    "            # figure out which topic (0 to ntopics - 1) was already assigned to position icd_i token in patient d,\n",
    "            # then only that topic needs to be substracted. For example, if icd_i was assigned topic 1, and n_dotdk[d][0] == 1,\n",
    "            # then n_dotdk_except_id[d][0] must be 1 - 1 = 0, whereas n_dotdk[d][1] == 1 is not affected by icd_i\n",
    "            topic_already_assigned_icd_i = z_id[patient_d][icd_i]\n",
    "            n_dotdk_except_id = copy.deepcopy(n_dotdk[d])\n",
    "            n_dotdk_except_id[topic_already_assigned_icd_i] -= 1\n",
    "            n_dotdk_except_id_alpha = n_dotdk_except_id + alpha\n",
    "            \n",
    "            # similarly, find out what x_id is, for example, x_id = 273, assigned to topics 1, 3, 4 across all patients,\n",
    "            # but here z_id is assigned to 1\n",
    "            # for n_xiddotk[273][0] == 1, then n_xiddotk_except_id[273][0] = 1 - 1 = 0, whereas n_xiddotk[273][2] == 1 is not affected\n",
    "            x_id = np.where(ICD9 == target_ICD)[0][0]\n",
    "            n_xiddotk_except_id = copy.deepcopy(n_wdotk[x_id])\n",
    "            n_xiddotk_except_id[topic_already_assigned_icd_i] -= 1\n",
    "            n_xiddotk_except_id_beta = n_xiddotk_except_id + beta\n",
    "            \n",
    "            # extend the above to all possible ICDs. For all the w != x_id, n_wdotk_except_id[w][0] = n_wdotk[w][0],\n",
    "            # n_wdotk_except_id[w][1] = n_wdotk[w][1], etc. For w == x_id, n_wdotk_except_id will be the same as n_xiddotk_except_id\n",
    "            # And we just need to sum first column-wise, and at topic_k - 1 position minus 1 to account for n_xiddotk_except_id\n",
    "            denominator_pre_beta = n_wdotk + beta\n",
    "            denominator_inter_beta = denominator_pre_beta.sum(axis=0)\n",
    "            denominator_inter_beta[topic_already_assigned_icd_i] -= 1\n",
    "            \n",
    "            # now gamma_idk is a ntopics by 1 array\n",
    "            gamma_idk = np.multiply(n_dotdk_except_id_alpha, np.divide(n_xiddotk_except_id_beta, denominator_inter_beta))\n",
    "            \n",
    "            # probability representation of gamma_idk\n",
    "            prob_zid = gamma_idk / np.sum(gamma_idk)\n",
    "            \n",
    "           \n",
    "            # now sample only 1 topic k for z_id according to prob_zid\n",
    "            zid = np.random.choice(ntopics, p=prob_zid)\n",
    "            z_id_sample.append(zid)\n",
    "        \n",
    "        # for patient d, update its resampled z_id\n",
    "        z_id[patient_d] = np.array(z_id_sample)"
   ]
  },
  {
   "cell_type": "code",
   "execution_count": 4,
   "id": "d5a2e275",
   "metadata": {},
   "outputs": [
    {
     "name": "stderr",
     "output_type": "stream",
     "text": [
      "  0%|                                                   | 0/100 [00:00<?, ?it/s]\n",
      "689it [00:00, 7263.71it/s]\n",
      "  1%|▍                                          | 1/100 [00:00<00:10,  9.71it/s]"
     ]
    },
    {
     "name": "stdout",
     "output_type": "stream",
     "text": [
      "0 iter resampling done\n"
     ]
    },
    {
     "name": "stderr",
     "output_type": "stream",
     "text": [
      "\n",
      "689it [00:00, 9030.86it/s]\n"
     ]
    },
    {
     "name": "stdout",
     "output_type": "stream",
     "text": [
      "1 iter resampling done\n"
     ]
    },
    {
     "name": "stderr",
     "output_type": "stream",
     "text": [
      "\n",
      "689it [00:00, 8841.38it/s]\n",
      "  3%|█▎                                         | 3/100 [00:00<00:08, 11.15it/s]"
     ]
    },
    {
     "name": "stdout",
     "output_type": "stream",
     "text": [
      "2 iter resampling done\n"
     ]
    },
    {
     "name": "stderr",
     "output_type": "stream",
     "text": [
      "\n",
      "689it [00:00, 8295.92it/s]\n"
     ]
    },
    {
     "name": "stdout",
     "output_type": "stream",
     "text": [
      "3 iter resampling done\n"
     ]
    },
    {
     "name": "stderr",
     "output_type": "stream",
     "text": [
      "\n",
      "689it [00:00, 8998.05it/s]\n",
      "  5%|██▏                                        | 5/100 [00:00<00:08, 11.28it/s]"
     ]
    },
    {
     "name": "stdout",
     "output_type": "stream",
     "text": [
      "4 iter resampling done\n"
     ]
    },
    {
     "name": "stderr",
     "output_type": "stream",
     "text": [
      "\n",
      "689it [00:00, 9218.87it/s]\n"
     ]
    },
    {
     "name": "stdout",
     "output_type": "stream",
     "text": [
      "5 iter resampling done\n"
     ]
    },
    {
     "name": "stderr",
     "output_type": "stream",
     "text": [
      "\n",
      "689it [00:00, 9077.84it/s]\n",
      "  7%|███                                        | 7/100 [00:00<00:08, 11.60it/s]"
     ]
    },
    {
     "name": "stdout",
     "output_type": "stream",
     "text": [
      "6 iter resampling done\n"
     ]
    },
    {
     "name": "stderr",
     "output_type": "stream",
     "text": [
      "\n",
      "689it [00:00, 9129.34it/s]\n"
     ]
    },
    {
     "name": "stdout",
     "output_type": "stream",
     "text": [
      "7 iter resampling done\n"
     ]
    },
    {
     "name": "stderr",
     "output_type": "stream",
     "text": [
      "\n",
      "689it [00:00, 9335.64it/s]\n",
      "  9%|███▊                                       | 9/100 [00:00<00:07, 11.81it/s]"
     ]
    },
    {
     "name": "stdout",
     "output_type": "stream",
     "text": [
      "8 iter resampling done\n"
     ]
    },
    {
     "name": "stderr",
     "output_type": "stream",
     "text": [
      "\n",
      "689it [00:00, 8567.75it/s]\n"
     ]
    },
    {
     "name": "stdout",
     "output_type": "stream",
     "text": [
      "9 iter resampling done\n"
     ]
    },
    {
     "name": "stderr",
     "output_type": "stream",
     "text": [
      "\n",
      "689it [00:00, 8867.99it/s]\n",
      " 11%|████▌                                     | 11/100 [00:00<00:07, 11.70it/s]"
     ]
    },
    {
     "name": "stdout",
     "output_type": "stream",
     "text": [
      "10 iter resampling done\n"
     ]
    },
    {
     "name": "stderr",
     "output_type": "stream",
     "text": [
      "\n",
      "689it [00:00, 9055.91it/s]\n"
     ]
    },
    {
     "name": "stdout",
     "output_type": "stream",
     "text": [
      "11 iter resampling done\n"
     ]
    },
    {
     "name": "stderr",
     "output_type": "stream",
     "text": [
      "\n",
      "689it [00:00, 9164.66it/s]\n",
      " 13%|█████▍                                    | 13/100 [00:01<00:07, 11.81it/s]"
     ]
    },
    {
     "name": "stdout",
     "output_type": "stream",
     "text": [
      "12 iter resampling done\n"
     ]
    },
    {
     "name": "stderr",
     "output_type": "stream",
     "text": [
      "\n",
      "689it [00:00, 9106.90it/s]\n"
     ]
    },
    {
     "name": "stdout",
     "output_type": "stream",
     "text": [
      "13 iter resampling done\n"
     ]
    },
    {
     "name": "stderr",
     "output_type": "stream",
     "text": [
      "\n",
      "689it [00:00, 8823.02it/s]\n",
      " 15%|██████▎                                   | 15/100 [00:01<00:07, 11.83it/s]"
     ]
    },
    {
     "name": "stdout",
     "output_type": "stream",
     "text": [
      "14 iter resampling done\n"
     ]
    },
    {
     "name": "stderr",
     "output_type": "stream",
     "text": [
      "\n",
      "689it [00:00, 8526.27it/s]\n"
     ]
    },
    {
     "name": "stdout",
     "output_type": "stream",
     "text": [
      "15 iter resampling done\n"
     ]
    },
    {
     "name": "stderr",
     "output_type": "stream",
     "text": [
      "\n",
      "689it [00:00, 8999.50it/s]\n",
      " 17%|███████▏                                  | 17/100 [00:01<00:07, 11.73it/s]"
     ]
    },
    {
     "name": "stdout",
     "output_type": "stream",
     "text": [
      "16 iter resampling done\n"
     ]
    },
    {
     "name": "stderr",
     "output_type": "stream",
     "text": [
      "\n",
      "689it [00:00, 9161.85it/s]\n"
     ]
    },
    {
     "name": "stdout",
     "output_type": "stream",
     "text": [
      "17 iter resampling done\n"
     ]
    },
    {
     "name": "stderr",
     "output_type": "stream",
     "text": [
      "\n",
      "689it [00:00, 9218.13it/s]\n",
      " 19%|███████▉                                  | 19/100 [00:01<00:06, 11.83it/s]"
     ]
    },
    {
     "name": "stdout",
     "output_type": "stream",
     "text": [
      "18 iter resampling done\n"
     ]
    },
    {
     "name": "stderr",
     "output_type": "stream",
     "text": [
      "\n",
      "689it [00:00, 8483.14it/s]\n"
     ]
    },
    {
     "name": "stdout",
     "output_type": "stream",
     "text": [
      "19 iter resampling done\n"
     ]
    },
    {
     "name": "stderr",
     "output_type": "stream",
     "text": [
      "\n",
      "689it [00:00, 8817.29it/s]\n",
      " 21%|████████▊                                 | 21/100 [00:01<00:06, 11.70it/s]"
     ]
    },
    {
     "name": "stdout",
     "output_type": "stream",
     "text": [
      "20 iter resampling done\n"
     ]
    },
    {
     "name": "stderr",
     "output_type": "stream",
     "text": [
      "\n",
      "689it [00:00, 8940.40it/s]\n"
     ]
    },
    {
     "name": "stdout",
     "output_type": "stream",
     "text": [
      "21 iter resampling done\n"
     ]
    },
    {
     "name": "stderr",
     "output_type": "stream",
     "text": [
      "\n",
      "689it [00:00, 9323.92it/s]\n",
      " 23%|█████████▋                                | 23/100 [00:01<00:06, 11.79it/s]"
     ]
    },
    {
     "name": "stdout",
     "output_type": "stream",
     "text": [
      "22 iter resampling done\n"
     ]
    },
    {
     "name": "stderr",
     "output_type": "stream",
     "text": [
      "\n",
      "689it [00:00, 8731.72it/s]\n"
     ]
    },
    {
     "name": "stdout",
     "output_type": "stream",
     "text": [
      "23 iter resampling done\n"
     ]
    },
    {
     "name": "stderr",
     "output_type": "stream",
     "text": [
      "\n",
      "689it [00:00, 8391.09it/s]\n",
      " 25%|██████████▌                               | 25/100 [00:02<00:06, 11.58it/s]"
     ]
    },
    {
     "name": "stdout",
     "output_type": "stream",
     "text": [
      "24 iter resampling done\n"
     ]
    },
    {
     "name": "stderr",
     "output_type": "stream",
     "text": [
      "\n",
      "689it [00:00, 8796.11it/s]\n"
     ]
    },
    {
     "name": "stdout",
     "output_type": "stream",
     "text": [
      "25 iter resampling done\n"
     ]
    },
    {
     "name": "stderr",
     "output_type": "stream",
     "text": [
      "\n",
      "689it [00:00, 9243.49it/s]\n",
      " 27%|███████████▎                              | 27/100 [00:02<00:06, 11.67it/s]"
     ]
    },
    {
     "name": "stdout",
     "output_type": "stream",
     "text": [
      "26 iter resampling done\n"
     ]
    },
    {
     "name": "stderr",
     "output_type": "stream",
     "text": [
      "\n",
      "689it [00:00, 9081.58it/s]\n"
     ]
    },
    {
     "name": "stdout",
     "output_type": "stream",
     "text": [
      "27 iter resampling done\n"
     ]
    },
    {
     "name": "stderr",
     "output_type": "stream",
     "text": [
      "\n",
      "689it [00:00, 8910.68it/s]\n",
      " 29%|████████████▏                             | 29/100 [00:02<00:06, 11.73it/s]"
     ]
    },
    {
     "name": "stdout",
     "output_type": "stream",
     "text": [
      "28 iter resampling done\n"
     ]
    },
    {
     "name": "stderr",
     "output_type": "stream",
     "text": [
      "\n",
      "689it [00:00, 7826.89it/s]\n"
     ]
    },
    {
     "name": "stdout",
     "output_type": "stream",
     "text": [
      "29 iter resampling done\n"
     ]
    },
    {
     "name": "stderr",
     "output_type": "stream",
     "text": [
      "\n",
      "689it [00:00, 9095.35it/s]\n",
      " 31%|█████████████                             | 31/100 [00:02<00:05, 11.56it/s]"
     ]
    },
    {
     "name": "stdout",
     "output_type": "stream",
     "text": [
      "30 iter resampling done\n"
     ]
    },
    {
     "name": "stderr",
     "output_type": "stream",
     "text": [
      "\n",
      "689it [00:00, 8416.63it/s]\n"
     ]
    },
    {
     "name": "stdout",
     "output_type": "stream",
     "text": [
      "31 iter resampling done\n"
     ]
    },
    {
     "name": "stderr",
     "output_type": "stream",
     "text": [
      "\n",
      "689it [00:00, 8972.09it/s]\n",
      " 33%|█████████████▊                            | 33/100 [00:02<00:05, 11.54it/s]"
     ]
    },
    {
     "name": "stdout",
     "output_type": "stream",
     "text": [
      "32 iter resampling done\n"
     ]
    },
    {
     "name": "stderr",
     "output_type": "stream",
     "text": [
      "\n",
      "689it [00:00, 9084.77it/s]\n"
     ]
    },
    {
     "name": "stdout",
     "output_type": "stream",
     "text": [
      "33 iter resampling done\n"
     ]
    },
    {
     "name": "stderr",
     "output_type": "stream",
     "text": [
      "\n",
      "689it [00:00, 9231.74it/s]\n",
      " 35%|██████████████▋                           | 35/100 [00:03<00:05, 11.70it/s]"
     ]
    },
    {
     "name": "stdout",
     "output_type": "stream",
     "text": [
      "34 iter resampling done\n"
     ]
    },
    {
     "name": "stderr",
     "output_type": "stream",
     "text": [
      "\n",
      "689it [00:00, 8567.62it/s]\n"
     ]
    },
    {
     "name": "stdout",
     "output_type": "stream",
     "text": [
      "35 iter resampling done\n"
     ]
    },
    {
     "name": "stderr",
     "output_type": "stream",
     "text": [
      "\n",
      "689it [00:00, 8386.05it/s]\n",
      " 37%|███████████████▌                          | 37/100 [00:03<00:05, 11.52it/s]"
     ]
    },
    {
     "name": "stdout",
     "output_type": "stream",
     "text": [
      "36 iter resampling done\n"
     ]
    },
    {
     "name": "stderr",
     "output_type": "stream",
     "text": [
      "\n",
      "689it [00:00, 9206.56it/s]\n"
     ]
    },
    {
     "name": "stdout",
     "output_type": "stream",
     "text": [
      "37 iter resampling done\n"
     ]
    },
    {
     "name": "stderr",
     "output_type": "stream",
     "text": [
      "\n",
      "689it [00:00, 8839.03it/s]\n",
      " 39%|████████████████▍                         | 39/100 [00:03<00:05, 11.62it/s]"
     ]
    },
    {
     "name": "stdout",
     "output_type": "stream",
     "text": [
      "38 iter resampling done\n"
     ]
    },
    {
     "name": "stderr",
     "output_type": "stream",
     "text": [
      "\n",
      "689it [00:00, 8583.53it/s]\n"
     ]
    },
    {
     "name": "stdout",
     "output_type": "stream",
     "text": [
      "39 iter resampling done\n"
     ]
    },
    {
     "name": "stderr",
     "output_type": "stream",
     "text": [
      "\n",
      "689it [00:00, 8305.91it/s]\n",
      " 41%|█████████████████▏                        | 41/100 [00:03<00:05, 11.47it/s]"
     ]
    },
    {
     "name": "stdout",
     "output_type": "stream",
     "text": [
      "40 iter resampling done\n"
     ]
    },
    {
     "name": "stderr",
     "output_type": "stream",
     "text": [
      "\n",
      "689it [00:00, 9019.64it/s]\n"
     ]
    },
    {
     "name": "stdout",
     "output_type": "stream",
     "text": [
      "41 iter resampling done\n"
     ]
    },
    {
     "name": "stderr",
     "output_type": "stream",
     "text": [
      "\n",
      "689it [00:00, 9172.72it/s]\n",
      " 43%|██████████████████                        | 43/100 [00:03<00:04, 11.62it/s]"
     ]
    },
    {
     "name": "stdout",
     "output_type": "stream",
     "text": [
      "42 iter resampling done\n"
     ]
    },
    {
     "name": "stderr",
     "output_type": "stream",
     "text": [
      "\n",
      "689it [00:00, 8618.21it/s]\n"
     ]
    },
    {
     "name": "stdout",
     "output_type": "stream",
     "text": [
      "43 iter resampling done\n"
     ]
    },
    {
     "name": "stderr",
     "output_type": "stream",
     "text": [
      "\n",
      "689it [00:00, 7786.71it/s]\n",
      " 45%|██████████████████▉                       | 45/100 [00:03<00:04, 11.36it/s]"
     ]
    },
    {
     "name": "stdout",
     "output_type": "stream",
     "text": [
      "44 iter resampling done\n"
     ]
    },
    {
     "name": "stderr",
     "output_type": "stream",
     "text": [
      "\n",
      "689it [00:00, 7029.09it/s]\n"
     ]
    },
    {
     "name": "stdout",
     "output_type": "stream",
     "text": [
      "45 iter resampling done\n"
     ]
    },
    {
     "name": "stderr",
     "output_type": "stream",
     "text": [
      "\n",
      "689it [00:00, 8114.76it/s]\n",
      " 47%|███████████████████▋                      | 47/100 [00:04<00:04, 10.90it/s]"
     ]
    },
    {
     "name": "stdout",
     "output_type": "stream",
     "text": [
      "46 iter resampling done\n"
     ]
    },
    {
     "name": "stderr",
     "output_type": "stream",
     "text": [
      "\n",
      "689it [00:00, 7300.65it/s]\n"
     ]
    },
    {
     "name": "stdout",
     "output_type": "stream",
     "text": [
      "47 iter resampling done\n"
     ]
    },
    {
     "name": "stderr",
     "output_type": "stream",
     "text": [
      "\n",
      "689it [00:00, 8523.22it/s]\n",
      " 49%|████████████████████▌                     | 49/100 [00:04<00:04, 10.76it/s]"
     ]
    },
    {
     "name": "stdout",
     "output_type": "stream",
     "text": [
      "48 iter resampling done\n"
     ]
    },
    {
     "name": "stderr",
     "output_type": "stream",
     "text": [
      "\n",
      "689it [00:00, 8595.42it/s]\n"
     ]
    },
    {
     "name": "stdout",
     "output_type": "stream",
     "text": [
      "49 iter resampling done\n"
     ]
    },
    {
     "name": "stderr",
     "output_type": "stream",
     "text": [
      "\n",
      "0it [00:00, ?it/s]\u001b[A\n",
      "689it [00:00, 5753.66it/s]\u001b[A\n",
      " 51%|█████████████████████▍                    | 51/100 [00:04<00:04, 10.24it/s]"
     ]
    },
    {
     "name": "stdout",
     "output_type": "stream",
     "text": [
      "50 iter resampling done\n"
     ]
    },
    {
     "name": "stderr",
     "output_type": "stream",
     "text": [
      "\n",
      "689it [00:00, 7780.99it/s]\n"
     ]
    },
    {
     "name": "stdout",
     "output_type": "stream",
     "text": [
      "51 iter resampling done\n"
     ]
    },
    {
     "name": "stderr",
     "output_type": "stream",
     "text": [
      "\n",
      "689it [00:00, 9231.94it/s]\n",
      " 53%|██████████████████████▎                   | 53/100 [00:04<00:04, 10.50it/s]"
     ]
    },
    {
     "name": "stdout",
     "output_type": "stream",
     "text": [
      "52 iter resampling done\n"
     ]
    },
    {
     "name": "stderr",
     "output_type": "stream",
     "text": [
      "\n",
      "689it [00:00, 8920.72it/s]\n"
     ]
    },
    {
     "name": "stdout",
     "output_type": "stream",
     "text": [
      "53 iter resampling done\n"
     ]
    },
    {
     "name": "stderr",
     "output_type": "stream",
     "text": [
      "\n",
      "689it [00:00, 8459.67it/s]\n",
      " 55%|███████████████████████                   | 55/100 [00:04<00:04, 10.77it/s]"
     ]
    },
    {
     "name": "stdout",
     "output_type": "stream",
     "text": [
      "54 iter resampling done\n"
     ]
    },
    {
     "name": "stderr",
     "output_type": "stream",
     "text": [
      "\n",
      "689it [00:00, 8867.45it/s]\n"
     ]
    },
    {
     "name": "stdout",
     "output_type": "stream",
     "text": [
      "55 iter resampling done\n"
     ]
    },
    {
     "name": "stderr",
     "output_type": "stream",
     "text": [
      "\n",
      "689it [00:00, 9283.22it/s]\n",
      " 57%|███████████████████████▉                  | 57/100 [00:05<00:03, 11.11it/s]"
     ]
    },
    {
     "name": "stdout",
     "output_type": "stream",
     "text": [
      "56 iter resampling done\n"
     ]
    },
    {
     "name": "stderr",
     "output_type": "stream",
     "text": [
      "\n",
      "689it [00:00, 9095.95it/s]\n"
     ]
    },
    {
     "name": "stdout",
     "output_type": "stream",
     "text": [
      "57 iter resampling done\n"
     ]
    },
    {
     "name": "stderr",
     "output_type": "stream",
     "text": [
      "\n",
      "689it [00:00, 8614.00it/s]\n",
      " 59%|████████████████████████▊                 | 59/100 [00:05<00:03, 11.27it/s]"
     ]
    },
    {
     "name": "stdout",
     "output_type": "stream",
     "text": [
      "58 iter resampling done\n"
     ]
    },
    {
     "name": "stderr",
     "output_type": "stream",
     "text": [
      "\n",
      "689it [00:00, 8503.56it/s]\n"
     ]
    },
    {
     "name": "stdout",
     "output_type": "stream",
     "text": [
      "59 iter resampling done\n"
     ]
    },
    {
     "name": "stderr",
     "output_type": "stream",
     "text": [
      "\n",
      "689it [00:00, 8792.26it/s]\n",
      " 61%|█████████████████████████▌                | 61/100 [00:05<00:03, 11.32it/s]"
     ]
    },
    {
     "name": "stdout",
     "output_type": "stream",
     "text": [
      "60 iter resampling done\n"
     ]
    },
    {
     "name": "stderr",
     "output_type": "stream",
     "text": [
      "\n",
      "689it [00:00, 9146.80it/s]\n"
     ]
    },
    {
     "name": "stdout",
     "output_type": "stream",
     "text": [
      "61 iter resampling done\n"
     ]
    },
    {
     "name": "stderr",
     "output_type": "stream",
     "text": [
      "\n",
      "0it [00:00, ?it/s]\u001b[A\n",
      "689it [00:00, 6302.66it/s]\u001b[A\n",
      " 63%|██████████████████████████▍               | 63/100 [00:05<00:03, 10.63it/s]"
     ]
    },
    {
     "name": "stdout",
     "output_type": "stream",
     "text": [
      "62 iter resampling done\n"
     ]
    },
    {
     "name": "stderr",
     "output_type": "stream",
     "text": [
      "\n",
      "689it [00:00, 7753.77it/s]\n"
     ]
    },
    {
     "name": "stdout",
     "output_type": "stream",
     "text": [
      "63 iter resampling done\n"
     ]
    },
    {
     "name": "stderr",
     "output_type": "stream",
     "text": [
      "\n",
      "689it [00:00, 9283.73it/s]\n",
      " 65%|███████████████████████████▎              | 65/100 [00:05<00:03, 10.79it/s]"
     ]
    },
    {
     "name": "stdout",
     "output_type": "stream",
     "text": [
      "64 iter resampling done\n"
     ]
    },
    {
     "name": "stderr",
     "output_type": "stream",
     "text": [
      "\n",
      "689it [00:00, 9366.87it/s]\n"
     ]
    },
    {
     "name": "stdout",
     "output_type": "stream",
     "text": [
      "65 iter resampling done\n"
     ]
    },
    {
     "name": "stderr",
     "output_type": "stream",
     "text": [
      "\n",
      "689it [00:00, 8543.58it/s]\n",
      " 67%|████████████████████████████▏             | 67/100 [00:05<00:02, 11.03it/s]"
     ]
    },
    {
     "name": "stdout",
     "output_type": "stream",
     "text": [
      "66 iter resampling done\n"
     ]
    },
    {
     "name": "stderr",
     "output_type": "stream",
     "text": [
      "\n",
      "689it [00:00, 9684.60it/s]\n"
     ]
    },
    {
     "name": "stdout",
     "output_type": "stream",
     "text": [
      "67 iter resampling done\n"
     ]
    },
    {
     "name": "stderr",
     "output_type": "stream",
     "text": [
      "\n",
      "689it [00:00, 9579.27it/s]\n",
      " 69%|████████████████████████████▉             | 69/100 [00:06<00:02, 11.46it/s]"
     ]
    },
    {
     "name": "stdout",
     "output_type": "stream",
     "text": [
      "68 iter resampling done\n"
     ]
    },
    {
     "name": "stderr",
     "output_type": "stream",
     "text": [
      "\n",
      "689it [00:00, 9294.36it/s]\n"
     ]
    },
    {
     "name": "stdout",
     "output_type": "stream",
     "text": [
      "69 iter resampling done\n"
     ]
    },
    {
     "name": "stderr",
     "output_type": "stream",
     "text": [
      "\n",
      "689it [00:00, 9724.49it/s]\n",
      " 71%|█████████████████████████████▊            | 71/100 [00:06<00:02, 11.75it/s]"
     ]
    },
    {
     "name": "stdout",
     "output_type": "stream",
     "text": [
      "70 iter resampling done\n"
     ]
    },
    {
     "name": "stderr",
     "output_type": "stream",
     "text": [
      "\n",
      "689it [00:00, 9578.07it/s]\n"
     ]
    },
    {
     "name": "stdout",
     "output_type": "stream",
     "text": [
      "71 iter resampling done\n"
     ]
    },
    {
     "name": "stderr",
     "output_type": "stream",
     "text": [
      "\n",
      "689it [00:00, 9188.73it/s]\n",
      " 73%|██████████████████████████████▋           | 73/100 [00:06<00:02, 11.91it/s]"
     ]
    },
    {
     "name": "stdout",
     "output_type": "stream",
     "text": [
      "72 iter resampling done\n"
     ]
    },
    {
     "name": "stderr",
     "output_type": "stream",
     "text": [
      "\n",
      "689it [00:00, 9076.30it/s]\n"
     ]
    },
    {
     "name": "stdout",
     "output_type": "stream",
     "text": [
      "73 iter resampling done\n"
     ]
    },
    {
     "name": "stderr",
     "output_type": "stream",
     "text": [
      "\n",
      "689it [00:00, 9638.67it/s]\n",
      " 75%|███████████████████████████████▌          | 75/100 [00:06<00:02, 12.03it/s]"
     ]
    },
    {
     "name": "stdout",
     "output_type": "stream",
     "text": [
      "74 iter resampling done\n"
     ]
    },
    {
     "name": "stderr",
     "output_type": "stream",
     "text": [
      "\n",
      "689it [00:00, 9220.10it/s]\n"
     ]
    },
    {
     "name": "stdout",
     "output_type": "stream",
     "text": [
      "75 iter resampling done\n"
     ]
    },
    {
     "name": "stderr",
     "output_type": "stream",
     "text": [
      "\n",
      "689it [00:00, 8549.14it/s]\n",
      " 77%|████████████████████████████████▎         | 77/100 [00:06<00:01, 11.91it/s]"
     ]
    },
    {
     "name": "stdout",
     "output_type": "stream",
     "text": [
      "76 iter resampling done\n"
     ]
    },
    {
     "name": "stderr",
     "output_type": "stream",
     "text": [
      "\n",
      "689it [00:00, 7871.04it/s]\n"
     ]
    },
    {
     "name": "stdout",
     "output_type": "stream",
     "text": [
      "77 iter resampling done\n"
     ]
    },
    {
     "name": "stderr",
     "output_type": "stream",
     "text": [
      "\n",
      "689it [00:00, 8860.16it/s]\n",
      " 79%|█████████████████████████████████▏        | 79/100 [00:06<00:01, 11.62it/s]"
     ]
    },
    {
     "name": "stdout",
     "output_type": "stream",
     "text": [
      "78 iter resampling done\n"
     ]
    },
    {
     "name": "stderr",
     "output_type": "stream",
     "text": [
      "\n",
      "689it [00:00, 8422.79it/s]\n"
     ]
    },
    {
     "name": "stdout",
     "output_type": "stream",
     "text": [
      "79 iter resampling done\n"
     ]
    },
    {
     "name": "stderr",
     "output_type": "stream",
     "text": [
      "\n",
      "689it [00:00, 8503.59it/s]\n",
      " 81%|██████████████████████████████████        | 81/100 [00:07<00:01, 11.49it/s]"
     ]
    },
    {
     "name": "stdout",
     "output_type": "stream",
     "text": [
      "80 iter resampling done\n"
     ]
    },
    {
     "name": "stderr",
     "output_type": "stream",
     "text": [
      "\n",
      "689it [00:00, 8293.30it/s]\n"
     ]
    },
    {
     "name": "stdout",
     "output_type": "stream",
     "text": [
      "81 iter resampling done\n"
     ]
    },
    {
     "name": "stderr",
     "output_type": "stream",
     "text": [
      "\n",
      "689it [00:00, 8457.72it/s]\n",
      " 83%|██████████████████████████████████▊       | 83/100 [00:07<00:01, 11.37it/s]"
     ]
    },
    {
     "name": "stdout",
     "output_type": "stream",
     "text": [
      "82 iter resampling done\n"
     ]
    },
    {
     "name": "stderr",
     "output_type": "stream",
     "text": [
      "\n",
      "689it [00:00, 8514.79it/s]\n"
     ]
    },
    {
     "name": "stdout",
     "output_type": "stream",
     "text": [
      "83 iter resampling done\n"
     ]
    },
    {
     "name": "stderr",
     "output_type": "stream",
     "text": [
      "\n",
      "689it [00:00, 8407.67it/s]\n",
      " 85%|███████████████████████████████████▋      | 85/100 [00:07<00:01, 11.31it/s]"
     ]
    },
    {
     "name": "stdout",
     "output_type": "stream",
     "text": [
      "84 iter resampling done\n"
     ]
    },
    {
     "name": "stderr",
     "output_type": "stream",
     "text": [
      "\n",
      "689it [00:00, 8413.94it/s]\n"
     ]
    },
    {
     "name": "stdout",
     "output_type": "stream",
     "text": [
      "85 iter resampling done\n"
     ]
    },
    {
     "name": "stderr",
     "output_type": "stream",
     "text": [
      "\n",
      "689it [00:00, 8620.14it/s]\n",
      " 87%|████████████████████████████████████▌     | 87/100 [00:07<00:01, 11.30it/s]"
     ]
    },
    {
     "name": "stdout",
     "output_type": "stream",
     "text": [
      "86 iter resampling done\n"
     ]
    },
    {
     "name": "stderr",
     "output_type": "stream",
     "text": [
      "\n",
      "689it [00:00, 9158.10it/s]\n"
     ]
    },
    {
     "name": "stdout",
     "output_type": "stream",
     "text": [
      "87 iter resampling done\n"
     ]
    },
    {
     "name": "stderr",
     "output_type": "stream",
     "text": [
      "\n",
      "689it [00:00, 9288.59it/s]\n",
      " 89%|█████████████████████████████████████▍    | 89/100 [00:07<00:00, 11.54it/s]"
     ]
    },
    {
     "name": "stdout",
     "output_type": "stream",
     "text": [
      "88 iter resampling done\n"
     ]
    },
    {
     "name": "stderr",
     "output_type": "stream",
     "text": [
      "\n",
      "689it [00:00, 8778.08it/s]\n"
     ]
    },
    {
     "name": "stdout",
     "output_type": "stream",
     "text": [
      "89 iter resampling done\n"
     ]
    },
    {
     "name": "stderr",
     "output_type": "stream",
     "text": [
      "\n",
      "689it [00:00, 8381.89it/s]\n",
      " 91%|██████████████████████████████████████▏   | 91/100 [00:07<00:00, 11.48it/s]"
     ]
    },
    {
     "name": "stdout",
     "output_type": "stream",
     "text": [
      "90 iter resampling done\n"
     ]
    },
    {
     "name": "stderr",
     "output_type": "stream",
     "text": [
      "\n",
      "689it [00:00, 8400.17it/s]\n"
     ]
    },
    {
     "name": "stdout",
     "output_type": "stream",
     "text": [
      "91 iter resampling done\n"
     ]
    },
    {
     "name": "stderr",
     "output_type": "stream",
     "text": [
      "\n",
      "689it [00:00, 8426.67it/s]\n",
      " 93%|███████████████████████████████████████   | 93/100 [00:08<00:00, 11.38it/s]"
     ]
    },
    {
     "name": "stdout",
     "output_type": "stream",
     "text": [
      "92 iter resampling done\n"
     ]
    },
    {
     "name": "stderr",
     "output_type": "stream",
     "text": [
      "\n",
      "689it [00:00, 7786.11it/s]\n"
     ]
    },
    {
     "name": "stdout",
     "output_type": "stream",
     "text": [
      "93 iter resampling done\n"
     ]
    },
    {
     "name": "stderr",
     "output_type": "stream",
     "text": [
      "\n",
      "0it [00:00, ?it/s]\u001b[A\n",
      "689it [00:00, 6379.57it/s]\u001b[A\n",
      " 95%|███████████████████████████████████████▉  | 95/100 [00:08<00:00, 10.41it/s]"
     ]
    },
    {
     "name": "stdout",
     "output_type": "stream",
     "text": [
      "94 iter resampling done\n"
     ]
    },
    {
     "name": "stderr",
     "output_type": "stream",
     "text": [
      "\n",
      "689it [00:00, 9121.94it/s]\n"
     ]
    },
    {
     "name": "stdout",
     "output_type": "stream",
     "text": [
      "95 iter resampling done\n"
     ]
    },
    {
     "name": "stderr",
     "output_type": "stream",
     "text": [
      "\n",
      "689it [00:00, 7965.43it/s]\n",
      " 97%|████████████████████████████████████████▋ | 97/100 [00:08<00:00, 10.65it/s]"
     ]
    },
    {
     "name": "stdout",
     "output_type": "stream",
     "text": [
      "96 iter resampling done\n"
     ]
    },
    {
     "name": "stderr",
     "output_type": "stream",
     "text": [
      "\n",
      "689it [00:00, 7618.05it/s]\n"
     ]
    },
    {
     "name": "stdout",
     "output_type": "stream",
     "text": [
      "97 iter resampling done\n"
     ]
    },
    {
     "name": "stderr",
     "output_type": "stream",
     "text": [
      "\n",
      "689it [00:00, 9143.24it/s]\n",
      " 99%|█████████████████████████████████████████▌| 99/100 [00:08<00:00, 10.76it/s]"
     ]
    },
    {
     "name": "stdout",
     "output_type": "stream",
     "text": [
      "98 iter resampling done\n"
     ]
    },
    {
     "name": "stderr",
     "output_type": "stream",
     "text": [
      "\n",
      "689it [00:00, 8710.48it/s]\n",
      "100%|█████████████████████████████████████████| 100/100 [00:08<00:00, 11.32it/s]"
     ]
    },
    {
     "name": "stdout",
     "output_type": "stream",
     "text": [
      "99 iter resampling done\n"
     ]
    },
    {
     "name": "stderr",
     "output_type": "stream",
     "text": [
      "\n"
     ]
    }
   ],
   "source": [
    "# 100 iterations\n",
    "for iteration in tqdm.tqdm(range(100)):\n",
    "    resample_z_id (z_id)\n",
    "    print(str(iteration) + ' iter resampling done')\n",
    "    n_dotdk = update_n_dotdk (z_id)\n",
    "    n_wdotk = update_n_wdotk (z_id)"
   ]
  },
  {
   "cell_type": "code",
   "execution_count": 5,
   "id": "8af1d429",
   "metadata": {},
   "outputs": [],
   "source": [
    "# Normalize the final ICDs-by-topics and the patients-by-topics matrix\n",
    "\n",
    "# for every element in n_wdotk, add beta\n",
    "n_wdotk_beta = n_wdotk + beta\n",
    "\n",
    "# the row-wise sum as the denominator, ntopics by 1\n",
    "phi_wk_denominator = n_wdotk_beta.sum(axis=0)\n",
    "\n",
    "# automatically broadcast to the w by k shape\n",
    "phi_wk_expec = np.divide(n_wdotk_beta, phi_wk_denominator)\n",
    "\n",
    "# store as a dataframe for easier access, index has to be instantiated one by one\n",
    "ICD9_short_desc = [str(icd) + '-' + icd_desc.loc[icd_desc['ICD9_CODE']==str(icd)]['SHORT_TITLE'].values[0]\n",
    "                   if str(icd) in icd_desc['ICD9_CODE'].values \n",
    "                   else str(icd) + '-' + 'N/A'\n",
    "                   for icd in ICD9]\n",
    "\n",
    "df_phi_wk_expec = pd.DataFrame(phi_wk_expec, index=ICD9)\n",
    "df_phi_wk_expec['desc'] = ICD9_short_desc\n",
    "\n",
    "# similarly for alpha and dk\n",
    "n_dotdk_alpha = n_dotdk + alpha\n",
    "theta_dk_denominator = n_dotdk_alpha.sum(axis=0)\n",
    "theta_dk_expec = np.divide(n_dotdk_alpha, theta_dk_denominator)\n",
    "df_theta_dk_expec = pd.DataFrame(theta_dk_expec, index=subjects)\n"
   ]
  },
  {
   "cell_type": "code",
   "execution_count": 6,
   "id": "bc9dfa27",
   "metadata": {},
   "outputs": [
    {
     "data": {
      "text/plain": [
       "array([[4.80679797e-07, 5.12718758e-07, 4.83001487e-07, 5.07514514e-07,\n",
       "        5.18082644e-03],\n",
       "       [4.80679797e-07, 5.12718758e-07, 4.83001487e-07, 5.07514514e-07,\n",
       "        5.18082644e-03],\n",
       "       [4.80679797e-07, 5.12718758e-07, 4.83001487e-07, 1.52259429e-02,\n",
       "        5.18030840e-07],\n",
       "       ...,\n",
       "       [4.80679797e-07, 5.12770030e-03, 4.83001487e-07, 5.07514514e-07,\n",
       "        5.18030840e-07],\n",
       "       [4.80679797e-07, 5.12718758e-07, 4.83001487e-07, 5.07565265e-03,\n",
       "        5.18030840e-07],\n",
       "       [4.80679797e-07, 5.12718758e-07, 4.83049787e-03, 5.07514514e-07,\n",
       "        5.18030840e-07]])"
      ]
     },
     "execution_count": 6,
     "metadata": {},
     "output_type": "execute_result"
    }
   ],
   "source": [
    "phi_wk_expec"
   ]
  },
  {
   "cell_type": "code",
   "execution_count": 6,
   "id": "aa1f4de1",
   "metadata": {},
   "outputs": [
    {
     "name": "stderr",
     "output_type": "stream",
     "text": [
      "/var/folders/9b/7s2z8v0d0_gbpr40f5q16b500000gq/T/ipykernel_45234/4176847228.py:14: FutureWarning: The frame.append method is deprecated and will be removed from pandas in a future version. Use pandas.concat instead.\n",
      "  top_10_df = top_10_df.append(top_10)\n",
      "/var/folders/9b/7s2z8v0d0_gbpr40f5q16b500000gq/T/ipykernel_45234/4176847228.py:14: FutureWarning: The frame.append method is deprecated and will be removed from pandas in a future version. Use pandas.concat instead.\n",
      "  top_10_df = top_10_df.append(top_10)\n",
      "/var/folders/9b/7s2z8v0d0_gbpr40f5q16b500000gq/T/ipykernel_45234/4176847228.py:14: FutureWarning: The frame.append method is deprecated and will be removed from pandas in a future version. Use pandas.concat instead.\n",
      "  top_10_df = top_10_df.append(top_10)\n",
      "/var/folders/9b/7s2z8v0d0_gbpr40f5q16b500000gq/T/ipykernel_45234/4176847228.py:14: FutureWarning: The frame.append method is deprecated and will be removed from pandas in a future version. Use pandas.concat instead.\n",
      "  top_10_df = top_10_df.append(top_10)\n",
      "/var/folders/9b/7s2z8v0d0_gbpr40f5q16b500000gq/T/ipykernel_45234/4176847228.py:14: FutureWarning: The frame.append method is deprecated and will be removed from pandas in a future version. Use pandas.concat instead.\n",
      "  top_10_df = top_10_df.append(top_10)\n"
     ]
    }
   ],
   "source": [
    "# Q2 Visualizing the top ICD codes under each topic\n",
    "import matplotlib.pyplot as plt\n",
    "from seaborn import heatmap\n",
    "\n",
    "# create an empty dataframe to store top 10 rows with repect to each topic\n",
    "top_10_df = pd.DataFrame() \n",
    "\n",
    "for column in df_phi_wk_expec.columns[:ntopics]:\n",
    "\n",
    "    # sort the dataframe by the current column in descending order and get the top 10 rows\n",
    "    top_10 = df_phi_wk_expec.sort_values(by=column, ascending=False).head(10)\n",
    "\n",
    "    # append the top 10 rows for the current column to the top_10_df dataframe\n",
    "    top_10_df = top_10_df.append(top_10)\n",
    "\n"
   ]
  },
  {
   "cell_type": "code",
   "execution_count": 7,
   "id": "8b1ba74d",
   "metadata": {},
   "outputs": [
    {
     "data": {
      "text/plain": [
       "<AxesSubplot: >"
      ]
     },
     "execution_count": 7,
     "metadata": {},
     "output_type": "execute_result"
    },
    {
     "data": {
      "image/png": "[encoded data removed]",
      "text/plain": [
       "<Figure size 500x1200 with 2 Axes>"
      ]
     },
     "metadata": {},
     "output_type": "display_data"
    }
   ],
   "source": [
    "plt.figure(figsize=(5,12))\n",
    "heatmap(top_10_df.loc[:, top_10_df.columns != 'desc'], cmap='Reds', square=False, xticklabels = ['topic' + str(i) for i in range(ntopics)], yticklabels = top_10_df['desc'].values)"
   ]
  },
  {
   "cell_type": "code",
   "execution_count": 8,
   "id": "f4e6104d",
   "metadata": {},
   "outputs": [],
   "source": [
    "# Q3 Correlating topics with the target ICD codes\n",
    "from scipy import stats\n",
    "\n",
    "str_long_vec = {}\n",
    "for patient_d in subjects:\n",
    "    str_long_vec[patient_d] = [str(icd) for icd in long_vec[patient_d]]\n",
    "\n",
    "# binary coded representation of whether 331, 332, or 340 is the prefix of any of the N_d icd codes in each subjects.\n",
    "ICD_331 = np.array([1 if any(icd.startswith('331') for icd in str_long_vec[patient_d]) else 0 for patient_d in subjects])\n",
    "ICD_332 = np.array([1 if any(icd.startswith('332') for icd in str_long_vec[patient_d]) else 0 for patient_d in subjects])\n",
    "ICD_340 = np.array([1 if any(icd.startswith('340') for icd in str_long_vec[patient_d]) else 0 for patient_d in subjects])\n",
    "\n",
    "corr_matrix = np.zeros((ntopics, 3))\n",
    "\n",
    "for topic_k in range(ntopics):\n",
    "    corr_331 = stats.pearsonr(df_theta_dk_expec[topic_k].values, ICD_331)[0]\n",
    "    corr_332 = stats.pearsonr(df_theta_dk_expec[topic_k].values, ICD_332)[0]\n",
    "    corr_340 = stats.pearsonr(df_theta_dk_expec[topic_k].values, ICD_340)[0]\n",
    "    corr_matrix[topic_k] = np.array([corr_331, corr_332, corr_340])"
   ]
  },
  {
   "cell_type": "code",
   "execution_count": 9,
   "id": "b47082f7",
   "metadata": {},
   "outputs": [
    {
     "data": {
      "text/plain": [
       "<AxesSubplot: >"
      ]
     },
     "execution_count": 9,
     "metadata": {},
     "output_type": "execute_result"
    },
    {
     "data": {
      "image/png": "[encoded data removed]",
      "text/plain": [
       "<Figure size 640x480 with 2 Axes>"
      ]
     },
     "metadata": {},
     "output_type": "display_data"
    }
   ],
   "source": [
    "heatmap(corr_matrix, xticklabels=['icd331', 'icd332', 'icd340'], yticklabels = ['topic' + str(i) for i in range(ntopics)], cmap='RdBu_r')"
   ]
  },
  {
   "cell_type": "code",
   "execution_count": 10,
   "id": "c35f9add",
   "metadata": {},
   "outputs": [
    {
     "name": "stderr",
     "output_type": "stream",
     "text": [
      "/var/folders/9b/7s2z8v0d0_gbpr40f5q16b500000gq/T/ipykernel_45234/4033428547.py:11: FutureWarning: The frame.append method is deprecated and will be removed from pandas in a future version. Use pandas.concat instead.\n",
      "  top_100_df = top_100_df.append(top_100)\n",
      "/var/folders/9b/7s2z8v0d0_gbpr40f5q16b500000gq/T/ipykernel_45234/4033428547.py:11: FutureWarning: The frame.append method is deprecated and will be removed from pandas in a future version. Use pandas.concat instead.\n",
      "  top_100_df = top_100_df.append(top_100)\n",
      "/var/folders/9b/7s2z8v0d0_gbpr40f5q16b500000gq/T/ipykernel_45234/4033428547.py:11: FutureWarning: The frame.append method is deprecated and will be removed from pandas in a future version. Use pandas.concat instead.\n",
      "  top_100_df = top_100_df.append(top_100)\n",
      "/var/folders/9b/7s2z8v0d0_gbpr40f5q16b500000gq/T/ipykernel_45234/4033428547.py:11: FutureWarning: The frame.append method is deprecated and will be removed from pandas in a future version. Use pandas.concat instead.\n",
      "  top_100_df = top_100_df.append(top_100)\n",
      "/var/folders/9b/7s2z8v0d0_gbpr40f5q16b500000gq/T/ipykernel_45234/4033428547.py:11: FutureWarning: The frame.append method is deprecated and will be removed from pandas in a future version. Use pandas.concat instead.\n",
      "  top_100_df = top_100_df.append(top_100)\n"
     ]
    }
   ],
   "source": [
    "# Q4 Visualizing patient topic mixtures\n",
    "# create an empty dataframe to store top 100 subjects with repect to each topic\n",
    "top_100_df = pd.DataFrame() \n",
    "\n",
    "for column in df_theta_dk_expec.columns:\n",
    "\n",
    "    # sort the dataframe by the current column in descending order and get the top 100 rows\n",
    "    top_100 = df_theta_dk_expec.sort_values(by=column, ascending=False).head(100)\n",
    "    \n",
    "    # append the top 10 rows for the current column to the top_100_df dataframe\n",
    "    top_100_df = top_100_df.append(top_100)\n",
    "\n",
    "\n",
    "# now the binary coded representation of whether 331, 332, or 340 is the prefix of \n",
    "# any of the N_d icd codes in top 100 subjects, with each containing 500 elements.\n",
    "subjects_top_100 = top_100_df.index.values # the actual subjects codes \n",
    "subjects_top_100_ind = [np.where(subjects == subj)[0][0] for subj in subjects_top_100]\n",
    "\n",
    "df_ICD = {'iccd331': ICD_331[subjects_top_100_ind], 'iccd332': ICD_332[subjects_top_100_ind], \n",
    "          'iccd340': ICD_340[subjects_top_100_ind]}\n",
    "\n",
    "# ICD_331_top_100 = ICD_331[subjects_top_100_ind]\n",
    "# ICD_332_top_100 = ICD_332[subjects_top_100_ind]\n",
    "# ICD_340_top_100 = ICD_340[subjects_top_100_ind]\n",
    "\n",
    "binary_df = pd.DataFrame(df_ICD)\n",
    "\n",
    "# binary_df['iccd331'] = ICD_331_top_100\n",
    "# binary_df['iccd332'] = ICD_332_top_100\n",
    "# binary_df['iccd340'] = ICD_340_top_100"
   ]
  },
  {
   "cell_type": "code",
   "execution_count": 11,
   "id": "06c6d746",
   "metadata": {},
   "outputs": [
    {
     "data": {
      "text/plain": [
       "<AxesSubplot: >"
      ]
     },
     "execution_count": 11,
     "metadata": {},
     "output_type": "execute_result"
    },
    {
     "data": {
      "image/png": "[encoded data removed]",
      "text/plain": [
       "<Figure size 640x480 with 5 Axes>"
      ]
     },
     "metadata": {},
     "output_type": "display_data"
    }
   ],
   "source": [
    "cm = ['Blues', 'Reds', 'Greens']\n",
    "widths = [1,1,1,5]\n",
    "f, axs = plt.subplots(1, binary_df.columns.size + 1, gridspec_kw={'wspace': 0, 'width_ratios': widths})\n",
    "for i, (s, a, c) in enumerate(zip(binary_df.columns, axs, cm)):\n",
    "    heatmap(np.array([binary_df[s].values]).T, yticklabels=False, xticklabels=[s], ax=a, cmap=c, cbar=False)\n",
    "# heatmap(binary_df, cmap=\"hot\", ax=ax1, cbar=False)\n",
    "heatmap(top_100_df, cmap='Reds', ax=axs[-1], square=False, xticklabels = ['topic' + str(i) for i in range(ntopics)], yticklabels=False)\n"
   ]
  },
  {
   "cell_type": "code",
   "execution_count": null,
   "id": "fd49cb21",
   "metadata": {},
   "outputs": [],
   "source": []
  }
 ],
 "metadata": {
  "kernelspec": {
   "display_name": "Python 3 (ipykernel)",
   "language": "python",
   "name": "python3"
  },
  "language_info": {
   "codemirror_mode": {
    "name": "ipython",
    "version": 3
   },
   "file_extension": ".py",
   "mimetype": "text/x-python",
   "name": "python",
   "nbconvert_exporter": "python",
   "pygments_lexer": "ipython3",
   "version": "3.9.12"
  }
 },
 "nbformat": 4,
 "nbformat_minor": 5
}
